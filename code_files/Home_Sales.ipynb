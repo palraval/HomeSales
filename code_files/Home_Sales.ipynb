{
  "cells": [
    {
      "cell_type": "code",
      "execution_count": 2,
      "metadata": {
        "colab": {
          "base_uri": "https://localhost:8080/"
        },
        "id": "a_KW73O2e3dw",
        "outputId": "709dccd6-a506-42be-dcf0-db79f2510375"
      },
      "outputs": [
        {
          "name": "stdout",
          "output_type": "stream",
          "text": [
            "\r0% [Working]\r            \rHit:1 http://security.ubuntu.com/ubuntu jammy-security InRelease\n",
            "\r0% [Connecting to archive.ubuntu.com] [Connected to cloud.r-project.org (52.85.151.8)] [Connecting t\r                                                                                                    \rHit:2 https://cloud.r-project.org/bin/linux/ubuntu jammy-cran40/ InRelease\n",
            "\r0% [Connecting to archive.ubuntu.com] [Connecting to ppa.launchpadcontent.net (185.125.190.80)] [Wai\r                                                                                                    \rHit:3 https://developer.download.nvidia.com/compute/cuda/repos/ubuntu2204/x86_64  InRelease\n",
            "Hit:4 http://archive.ubuntu.com/ubuntu jammy InRelease\n",
            "Hit:5 http://archive.ubuntu.com/ubuntu jammy-updates InRelease\n",
            "Hit:6 http://archive.ubuntu.com/ubuntu jammy-backports InRelease\n",
            "Hit:7 https://ppa.launchpadcontent.net/c2d4u.team/c2d4u4.0+/ubuntu jammy InRelease\n",
            "Hit:8 https://ppa.launchpadcontent.net/deadsnakes/ppa/ubuntu jammy InRelease\n",
            "Hit:9 https://ppa.launchpadcontent.net/graphics-drivers/ppa/ubuntu jammy InRelease\n",
            "Hit:10 https://ppa.launchpadcontent.net/ubuntugis/ppa/ubuntu jammy InRelease\n",
            "Reading package lists... Done\n"
          ]
        }
      ],
      "source": [
        "import os\n",
        "# Using the correct spark version\n",
        "\n",
        "spark_version = 'spark-3.5.1'\n",
        "os.environ['SPARK_VERSION']=spark_version\n",
        "\n",
        "# Installs Spark and Java\n",
        "\n",
        "!apt-get update\n",
        "!apt-get install openjdk-11-jdk-headless -qq > /dev/null\n",
        "!wget -q http://www.apache.org/dist/spark/$SPARK_VERSION/$SPARK_VERSION-bin-hadoop3.tgz\n",
        "!tar xf $SPARK_VERSION-bin-hadoop3.tgz\n",
        "!pip install -q findspark\n",
        "\n",
        "# Sets Environment Variables\n",
        "\n",
        "os.environ[\"JAVA_HOME\"] = \"/usr/lib/jvm/java-11-openjdk-amd64\"\n",
        "os.environ[\"SPARK_HOME\"] = f\"/content/{spark_version}-bin-hadoop3\"\n",
        "\n",
        "# Starts a SparkSession\n",
        "\n",
        "import findspark\n",
        "findspark.init()"
      ]
    },
    {
      "cell_type": "code",
      "execution_count": 3,
      "metadata": {
        "id": "2XbWNf1Te5fM"
      },
      "outputs": [],
      "source": [
        "# Imports packages\n",
        "\n",
        "from pyspark.sql import SparkSession\n",
        "import time\n",
        "\n",
        "# Creates a SparkSession\n",
        "\n",
        "spark = SparkSession.builder.appName(\"SparkSQL\").getOrCreate()"
      ]
    },
    {
      "cell_type": "code",
      "execution_count": 14,
      "metadata": {
        "id": "wOJqxG_RPSwp"
      },
      "outputs": [],
      "source": [
        "# Reads in the AWS S3 bucket into a DataFrame\n",
        "\n",
        "from pyspark import SparkFiles\n",
        "\n",
        "url = \"https://2u-data-curriculum-team.s3.amazonaws.com/dataviz-classroom/v1.2/22-big-data/home_sales_revised.csv\"\n",
        "\n",
        "spark.sparkContext.addFile(url)\n",
        "\n",
        "df = spark.read.csv(SparkFiles.get(\"home_sales_revised.csv\"), header = True)"
      ]
    },
    {
      "cell_type": "code",
      "execution_count": 21,
      "metadata": {
        "id": "RoljcJ7WPpnm"
      },
      "outputs": [],
      "source": [
        "# Creates a temporary view of the DataFrame\n",
        "\n",
        "df.createOrReplaceTempView('home_sales')"
      ]
    },
    {
      "cell_type": "code",
      "execution_count": 30,
      "metadata": {
        "colab": {
          "base_uri": "https://localhost:8080/"
        },
        "id": "L6fkwOeOmqvq",
        "outputId": "990f4767-ca7c-47d0-f8b0-46a32030517e"
      },
      "outputs": [
        {
          "name": "stdout",
          "output_type": "stream",
          "text": [
            "+-----------------------+--------------------+\n",
            "|extract(year FROM date)|round(avg(price), 2)|\n",
            "+-----------------------+--------------------+\n",
            "|                   2019|            300263.7|\n",
            "|                   2020|           298353.78|\n",
            "|                   2021|           301819.44|\n",
            "|                   2022|           296363.88|\n",
            "+-----------------------+--------------------+\n",
            "\n"
          ]
        }
      ],
      "source": [
        "# Average price for a four bedroom house sold per year, rounded to two decimal places\n",
        "\n",
        "spark.sql(\"\"\"\n",
        "          SELECT EXTRACT(year FROM date), ROUND(AVG(price),2) FROM home_sales WHERE bedrooms == 4 GROUP BY EXTRACT(year FROM date)\n",
        "          ORDER BY EXTRACT(year FROM date)\n",
        "          \"\"\").show()\n"
      ]
    },
    {
      "cell_type": "code",
      "execution_count": 33,
      "metadata": {
        "colab": {
          "base_uri": "https://localhost:8080/"
        },
        "id": "l8p_tUS8h8it",
        "outputId": "e792cad0-6157-4ecc-fd67-e5c0c92c1b75"
      },
      "outputs": [
        {
          "name": "stdout",
          "output_type": "stream",
          "text": [
            "+-----------------------+--------------------+\n",
            "|extract(year FROM date)|round(avg(price), 2)|\n",
            "+-----------------------+--------------------+\n",
            "|                   2019|           287287.82|\n",
            "|                   2020|           294204.16|\n",
            "|                   2021|           294211.46|\n",
            "|                   2022|           292725.69|\n",
            "+-----------------------+--------------------+\n",
            "\n"
          ]
        }
      ],
      "source": [
        "# Average price of a home per year the home was built that have 3 bedrooms and 3 bathrooms, rounded to two decimal places\n",
        "\n",
        "spark.sql(\"\"\"\n",
        "          SELECT EXTRACT(year FROM date), ROUND(AVG(price),2) FROM home_sales WHERE bedrooms == 3 AND bathrooms == 3 GROUP BY EXTRACT(year FROM date)\n",
        "          ORDER BY EXTRACT(year FROM date)\n",
        "          \"\"\").show()\n",
        "\n"
      ]
    },
    {
      "cell_type": "code",
      "execution_count": 35,
      "metadata": {
        "colab": {
          "base_uri": "https://localhost:8080/"
        },
        "id": "Y-Eytz64liDU",
        "outputId": "cd7b5d86-fb90-4299-db41-35ad6af6681e"
      },
      "outputs": [
        {
          "name": "stdout",
          "output_type": "stream",
          "text": [
            "+-----------------------+--------------------+\n",
            "|extract(year FROM date)|round(avg(price), 2)|\n",
            "+-----------------------+--------------------+\n",
            "|                   2019|           289859.14|\n",
            "|                   2020|           292289.09|\n",
            "|                   2021|           296330.96|\n",
            "|                   2022|           290242.99|\n",
            "+-----------------------+--------------------+\n",
            "\n"
          ]
        }
      ],
      "source": [
        "# Average price of a home for each year the home was built, that have 3 bedrooms/bathrooms, with two floors,and are >=2,000 square feet\n",
        "\n",
        "spark.sql(\"\"\"\n",
        "          SELECT EXTRACT(year FROM date), ROUND(AVG(price),2) FROM home_sales\n",
        "          WHERE bedrooms == 3 AND bathrooms == 3 AND floors = 2 AND sqft_living >= 2000\n",
        "          GROUP BY EXTRACT(year FROM date)\n",
        "          ORDER BY EXTRACT(year FROM date)\n",
        "          \"\"\").show()\n",
        "\n",
        "\n"
      ]
    },
    {
      "cell_type": "code",
      "execution_count": 42,
      "metadata": {
        "colab": {
          "base_uri": "https://localhost:8080/"
        },
        "id": "GUrfgOX1pCRd",
        "outputId": "7781894e-19c6-4a25-a26a-b385e587f292"
      },
      "outputs": [
        {
          "name": "stdout",
          "output_type": "stream",
          "text": [
            "+----+--------------------+\n",
            "|view|round(avg(price), 2)|\n",
            "+----+--------------------+\n",
            "|  99|          1061201.42|\n",
            "|  98|          1053739.33|\n",
            "|  97|          1129040.15|\n",
            "|  96|          1017815.92|\n",
            "|  95|           1054325.6|\n",
            "|  94|           1033536.2|\n",
            "|  93|          1026006.06|\n",
            "|  92|           970402.55|\n",
            "|  91|          1137372.73|\n",
            "|  90|          1062654.16|\n",
            "|  89|          1107839.15|\n",
            "|  88|          1031719.35|\n",
            "|  87|           1072285.2|\n",
            "|  86|          1070444.25|\n",
            "|  85|          1056336.74|\n",
            "|  84|          1117233.13|\n",
            "|  83|          1033965.93|\n",
            "|  82|           1063498.0|\n",
            "|  81|          1053472.79|\n",
            "|  80|           991767.38|\n",
            "+----+--------------------+\n",
            "only showing top 20 rows\n",
            "\n",
            "--- 1.1588048934936523 seconds ---\n"
          ]
        }
      ],
      "source": [
        "# Average price of a home per \"view\" rating, having an average home price >= $350,000 and ordered by descending view rating, and its run time\n",
        "\n",
        "start_time = time.time()\n",
        "\n",
        "spark.sql(\"\"\"\n",
        "          SELECT view, ROUND(AVG(price),2) FROM home_sales\n",
        "          GROUP BY view\n",
        "          HAVING AVG(price) >= 350000\n",
        "          ORDER BY view DESC\n",
        "          \"\"\").show()\n",
        "\n",
        "\n",
        "\n",
        "print(\"--- %s seconds ---\" % (time.time() - start_time))"
      ]
    },
    {
      "cell_type": "code",
      "execution_count": 43,
      "metadata": {
        "colab": {
          "base_uri": "https://localhost:8080/"
        },
        "id": "KAhk3ZD2tFy8",
        "outputId": "8b5b6439-d0d5-4db3-b413-fced4addedcd"
      },
      "outputs": [
        {
          "data": {
            "text/plain": [
              "DataFrame[]"
            ]
          },
          "execution_count": 43,
          "metadata": {},
          "output_type": "execute_result"
        }
      ],
      "source": [
        "# Caches the the temporary table home_sales\n",
        "\n",
        "spark.sql(\"CACHE table home_sales\")\n"
      ]
    },
    {
      "cell_type": "code",
      "execution_count": 44,
      "metadata": {
        "colab": {
          "base_uri": "https://localhost:8080/"
        },
        "id": "4opVhbvxtL-i",
        "outputId": "7a4ead55-c48b-4161-88cc-e893661f0b56"
      },
      "outputs": [
        {
          "data": {
            "text/plain": [
              "True"
            ]
          },
          "execution_count": 44,
          "metadata": {},
          "output_type": "execute_result"
        }
      ],
      "source": [
        "# Checks if the table is cached\n",
        "\n",
        "spark.catalog.isCached('home_sales')"
      ]
    },
    {
      "cell_type": "code",
      "execution_count": 45,
      "metadata": {
        "colab": {
          "base_uri": "https://localhost:8080/"
        },
        "id": "5GnL46lwTSEk",
        "outputId": "05898cdd-4163-4ec8-ffd6-d21d1d8975d4"
      },
      "outputs": [
        {
          "name": "stdout",
          "output_type": "stream",
          "text": [
            "+----+--------------------+\n",
            "|view|round(avg(price), 2)|\n",
            "+----+--------------------+\n",
            "|  99|          1061201.42|\n",
            "|  98|          1053739.33|\n",
            "|  97|          1129040.15|\n",
            "|  96|          1017815.92|\n",
            "|  95|           1054325.6|\n",
            "|  94|           1033536.2|\n",
            "|  93|          1026006.06|\n",
            "|  92|           970402.55|\n",
            "|  91|          1137372.73|\n",
            "|  90|          1062654.16|\n",
            "|  89|          1107839.15|\n",
            "|  88|          1031719.35|\n",
            "|  87|           1072285.2|\n",
            "|  86|          1070444.25|\n",
            "|  85|          1056336.74|\n",
            "|  84|          1117233.13|\n",
            "|  83|          1033965.93|\n",
            "|  82|           1063498.0|\n",
            "|  81|          1053472.79|\n",
            "|  80|           991767.38|\n",
            "+----+--------------------+\n",
            "only showing top 20 rows\n",
            "\n",
            "--- 0.6465854644775391 seconds ---\n"
          ]
        }
      ],
      "source": [
        "# Stores inital time\n",
        "\n",
        "start_time = time.time()\n",
        "\n",
        "\n",
        "# Runs the last query above using cached data that calculates the average price of a home per \"view\" rating having an average home price >= $350,000\n",
        "\n",
        "spark.sql(\"\"\"\n",
        "          SELECT view, ROUND(AVG(price),2) FROM home_sales\n",
        "          GROUP BY view\n",
        "          HAVING AVG(price) >= 350000\n",
        "          ORDER BY view DESC\n",
        "          \"\"\").show()\n",
        "\n",
        "# Calculates the runtime\n",
        "\n",
        "print(\"--- %s seconds ---\" % (time.time() - start_time))\n"
      ]
    },
    {
      "cell_type": "code",
      "execution_count": 46,
      "metadata": {
        "id": "Qm12WN9isHBR"
      },
      "outputs": [],
      "source": [
        "# Partitions by the \"date_built\" field on the formatted parquet home sales data\n",
        "\n",
        "df.write.partitionBy(\"date_built\").parquet(\"home_sales_partition\")\n"
      ]
    },
    {
      "cell_type": "code",
      "execution_count": 51,
      "metadata": {
        "id": "AZ7BgY61sRqY"
      },
      "outputs": [],
      "source": [
        "# Reads the parquet formatted data\n",
        "\n",
        "parquet_df = spark.read.parquet('home_sales_partition')\n"
      ]
    },
    {
      "cell_type": "code",
      "execution_count": 52,
      "metadata": {
        "id": "J6MJkHfvVcvh"
      },
      "outputs": [],
      "source": [
        "# Creates a temporary table for the parquet data\n",
        "\n",
        "parquet_df.createOrReplaceTempView('parquet_table')\n"
      ]
    },
    {
      "cell_type": "code",
      "execution_count": 53,
      "metadata": {
        "colab": {
          "base_uri": "https://localhost:8080/"
        },
        "id": "G_Vhb52rU1Sn",
        "outputId": "6c38805f-62fe-4c7f-c1a7-3f5ea59a54d3"
      },
      "outputs": [
        {
          "name": "stdout",
          "output_type": "stream",
          "text": [
            "+----+--------------------+\n",
            "|view|round(avg(price), 2)|\n",
            "+----+--------------------+\n",
            "|  99|          1061201.42|\n",
            "|  98|          1053739.33|\n",
            "|  97|          1129040.15|\n",
            "|  96|          1017815.92|\n",
            "|  95|           1054325.6|\n",
            "|  94|           1033536.2|\n",
            "|  93|          1026006.06|\n",
            "|  92|           970402.55|\n",
            "|  91|          1137372.73|\n",
            "|  90|          1062654.16|\n",
            "|  89|          1107839.15|\n",
            "|  88|          1031719.35|\n",
            "|  87|           1072285.2|\n",
            "|  86|          1070444.25|\n",
            "|  85|          1056336.74|\n",
            "|  84|          1117233.13|\n",
            "|  83|          1033965.93|\n",
            "|  82|           1063498.0|\n",
            "|  81|          1053472.79|\n",
            "|  80|           991767.38|\n",
            "+----+--------------------+\n",
            "only showing top 20 rows\n",
            "\n",
            "--- 0.9401202201843262 seconds ---\n"
          ]
        }
      ],
      "source": [
        "# Stores initial time\n",
        "\n",
        "start_time = time.time()\n",
        "\n",
        "\n",
        "# Uses the parquet DataFrame to run the previous query(average price of a home per \"view\" rating having an average home pricer >= $350,000)\n",
        "\n",
        "spark.sql(\"\"\"\n",
        "          SELECT view, ROUND(AVG(price),2) FROM parquet_table\n",
        "          GROUP BY view\n",
        "          HAVING AVG(price) >= 350000\n",
        "          ORDER BY view DESC\n",
        "          \"\"\").show()\n",
        "\n",
        "\n",
        "# Calculates total time\n",
        "\n",
        "print(\"--- %s seconds ---\" % (time.time() - start_time))"
      ]
    },
    {
      "cell_type": "code",
      "execution_count": 54,
      "metadata": {
        "colab": {
          "base_uri": "https://localhost:8080/"
        },
        "id": "hjjYzQGjtbq8",
        "outputId": "91b8203d-eaed-46a4-c574-fdf468c359b1"
      },
      "outputs": [
        {
          "data": {
            "text/plain": [
              "DataFrame[]"
            ]
          },
          "execution_count": 54,
          "metadata": {},
          "output_type": "execute_result"
        }
      ],
      "source": [
        "# Uncaches the home_sales temporary table\n",
        "\n",
        "spark.sql(\"UNCACHE table home_sales\")\n",
        "\n",
        "\n"
      ]
    },
    {
      "cell_type": "code",
      "execution_count": 55,
      "metadata": {
        "colab": {
          "base_uri": "https://localhost:8080/"
        },
        "id": "Sy9NBvO7tlmm",
        "outputId": "a3f927a4-cbc1-43c9-e4ec-c391d602b60b"
      },
      "outputs": [
        {
          "data": {
            "text/plain": [
              "False"
            ]
          },
          "execution_count": 55,
          "metadata": {},
          "output_type": "execute_result"
        }
      ],
      "source": [
        "# Checks if the home_sales is no longer cached\n",
        "\n",
        "spark.catalog.isCached('home_sales')"
      ]
    }
  ],
  "metadata": {
    "colab": {
      "provenance": []
    },
    "gpuClass": "standard",
    "kernelspec": {
      "display_name": "Python 3 (ipykernel)",
      "language": "python",
      "name": "python3"
    },
    "language_info": {
      "codemirror_mode": {
        "name": "ipython",
        "version": 3
      },
      "file_extension": ".py",
      "mimetype": "text/x-python",
      "name": "python",
      "nbconvert_exporter": "python",
      "pygments_lexer": "ipython3",
      "version": "3.10.4"
    },
    "nteract": {
      "version": "0.28.0"
    }
  },
  "nbformat": 4,
  "nbformat_minor": 0
}
